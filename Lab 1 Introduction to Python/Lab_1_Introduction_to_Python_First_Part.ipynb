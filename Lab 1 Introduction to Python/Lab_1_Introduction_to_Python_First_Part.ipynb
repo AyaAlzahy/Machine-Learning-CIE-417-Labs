{
  "nbformat": 4,
  "nbformat_minor": 0,
  "metadata": {
    "colab": {
      "name": "Lab 1. Introduction to Python - First Part.ipynb",
      "provenance": []
    },
    "kernelspec": {
      "name": "python3",
      "display_name": "Python 3"
    }
  },
  "cells": [
    {
      "cell_type": "markdown",
      "metadata": {
        "id": "6x2L9AaPu3Hz"
      },
      "source": [
        "#**Why Python?**\n",
        "\n",
        "\n",
        "*   Easy to use and still supports large programs like C/C++\n",
        "*   Advanced data structures like dictionaries and diverse containers which provides a lot of flexibility\n",
        "* Python along with R have been in the forefront of Data Science and Machine Learning applications\n",
        "* Interpreted Language which facilitates experimenting and debugging\n"
      ]
    },
    {
      "cell_type": "markdown",
      "metadata": {
        "id": "FVJeM6QVyJq6"
      },
      "source": [
        "#**Basic data types and operators** <br> \n",
        "No declaration is needed. Python infers the variable types."
      ]
    },
    {
      "cell_type": "markdown",
      "metadata": {
        "id": "8iG1xhTXx5kV"
      },
      "source": [
        "**Numeric Types**\n"
      ]
    },
    {
      "cell_type": "code",
      "metadata": {
        "id": "f0SaWnr8wCt9",
        "cellView": "both"
      },
      "source": [
        "x = 2\n",
        "print(type(x))\n",
        "x = 2.0\n",
        "print(type(x))\n",
        "x = 1+2j\n",
        "print(type(x))"
      ],
      "execution_count": null,
      "outputs": []
    },
    {
      "cell_type": "markdown",
      "metadata": {
        "id": "QYOdzPAqG6zP"
      },
      "source": [
        "**Mathematical Operators**"
      ]
    },
    {
      "cell_type": "code",
      "metadata": {
        "id": "axkPHYuIz3Bp",
        "cellView": "both"
      },
      "source": [
        "x = 7/3\n",
        "y = 7//3\n",
        "z = 7%3\n",
        "print(x,y,z)\n",
        "# power operator is a double asterisk\n",
        "x = 2**3\n",
        "print(x)"
      ],
      "execution_count": null,
      "outputs": []
    },
    {
      "cell_type": "code",
      "metadata": {
        "id": "j9FyfYpD0P4-",
        "cellView": "both"
      },
      "source": [
        "x = 4 + 3.75 - 1 \n",
        "print(x,type(x))"
      ],
      "execution_count": null,
      "outputs": []
    },
    {
      "cell_type": "markdown",
      "metadata": {
        "id": "_lkGem11HFba"
      },
      "source": [
        "**Logical Operators**"
      ]
    },
    {
      "cell_type": "code",
      "metadata": {
        "id": "Gg0BxeFK0GZd"
      },
      "source": [
        "x = True\n",
        "y = False\n",
        "print(1 in [1,2])\n",
        "print(x == y)\n",
        "print(x and y)\n",
        "print(x or y)\n",
        "print(x and (not y))"
      ],
      "execution_count": null,
      "outputs": []
    },
    {
      "cell_type": "markdown",
      "metadata": {
        "id": "RWltY2JoWTZr"
      },
      "source": [
        "**Textual Types**\n"
      ]
    },
    {
      "cell_type": "code",
      "metadata": {
        "id": "9Xj6ZZtz1ubX",
        "cellView": "both"
      },
      "source": [
        "x = 'Python'\n",
        "print(x,'\\n',type(x))"
      ],
      "execution_count": null,
      "outputs": []
    },
    {
      "cell_type": "markdown",
      "metadata": {
        "id": "XVLLT_hZHfzP"
      },
      "source": [
        "Strings support indexing and slicing. Indices can also be negative which starts counting from the right.\n",
        "\n"
      ]
    },
    {
      "cell_type": "code",
      "metadata": {
        "id": "2n3TGENfX5m1",
        "cellView": "both"
      },
      "source": [
        "print(x[0])\n",
        "print(x[1:5])\n",
        "print(x[1:]) \n",
        "print(x[-1])"
      ],
      "execution_count": null,
      "outputs": []
    },
    {
      "cell_type": "markdown",
      "metadata": {
        "id": "bel-bS6nH5fy"
      },
      "source": [
        "Strings are **immutable** i.e they don't support item assignment."
      ]
    },
    {
      "cell_type": "code",
      "metadata": {
        "id": "eF1G2nRHWquC",
        "cellView": "both"
      },
      "source": [
        "# If you need a different string, create a new one\n",
        "x[1]='z' # You can't do that"
      ],
      "execution_count": null,
      "outputs": []
    },
    {
      "cell_type": "code",
      "metadata": {
        "id": "De3-rwE8neDQ"
      },
      "source": [
        "# You can do so using slicing and concatenation\n",
        "y = x[0] + 'z' + x[2:]\n",
        "print(y)"
      ],
      "execution_count": null,
      "outputs": []
    },
    {
      "cell_type": "code",
      "metadata": {
        "id": "acU6vYCzZ-g4",
        "cellView": "both"
      },
      "source": [
        "# Escape character '\\'\n",
        "x = 'doesn\\'t'\n",
        "print(x)\n",
        "x = r'doesn\\'t'\n",
        "print(x)\n",
        "x = 'Intro to python \\nMachine Learning' #preserves white spaces\n",
        "print(x)"
      ],
      "execution_count": null,
      "outputs": []
    },
    {
      "cell_type": "markdown",
      "metadata": {
        "id": "aLOvwAepIE2U"
      },
      "source": [
        "Strings support a large number of methods for searching and transformations."
      ]
    },
    {
      "cell_type": "code",
      "metadata": {
        "id": "7gF53UVbtt7K",
        "cellView": "both"
      },
      "source": [
        "# Examples\n",
        "x = 'python'\n",
        "print(x.capitalize()) # returns the same string with the first letter capitalized and the rest lowercased\n",
        "print(x.find('th')) # returns the starting index of the sequence 'th' if present in x \n",
        "print(x.isalpha()) # returns true if the string is alphabetic\n",
        "# There are plenty of other functions that can do most of the common tasks on strings "
      ],
      "execution_count": null,
      "outputs": []
    },
    {
      "cell_type": "markdown",
      "metadata": {
        "id": "LPDR9MAX2d4c"
      },
      "source": [
        "#**Lists**\n"
      ]
    },
    {
      "cell_type": "markdown",
      "metadata": {
        "id": "XztzFyJUTDz2"
      },
      "source": [
        "Lists are the basic containers for grouping data together in Python. <br>\n",
        "Lists are **mutable**."
      ]
    },
    {
      "cell_type": "code",
      "metadata": {
        "id": "M-ffF4qT2rbn",
        "outputId": "6cb7825e-e383-4e1c-dfc1-4573fe1a77b2",
        "colab": {
          "base_uri": "https://localhost:8080/",
          "height": 73
        }
      },
      "source": [
        "foo = [1,4,9,16]\n",
        "print(foo)\n",
        "foo[0] = 'Python' #elements of the list do not necessarily have the same type\n",
        "print(foo)\n",
        "bar = [[1,2],'Python',1]\n",
        "print(bar)"
      ],
      "execution_count": 14,
      "outputs": [
        {
          "output_type": "stream",
          "text": [
            "[1, 4, 9, 16]\n",
            "['Python', 4, 9, 16]\n",
            "[[1, 2], 'Python', 1]\n"
          ],
          "name": "stdout"
        }
      ]
    },
    {
      "cell_type": "markdown",
      "metadata": {
        "id": "Z8OAtAFNOtp8"
      },
      "source": [
        "Lists support indexing and slicing <br>\n",
        " List:&emsp;1&ensp;4&ensp;3&ensp;9 <br>\n",
        " Index: 0&ensp;1&ensp;2&ensp;3 <br>\n",
        " &emsp; &emsp;&ensp;-4 -3 -2 -1"
      ]
    },
    {
      "cell_type": "code",
      "metadata": {
        "id": "2KO9vmQ13Xup",
        "outputId": "071620c8-0543-411f-d0d1-26ccb1739684",
        "colab": {
          "base_uri": "https://localhost:8080/",
          "height": 92
        }
      },
      "source": [
        "foo = [1,4,3,9]\n",
        "print(foo) \n",
        "print(foo[2:],foo[-4:-2]) # supports indexing and slicing\n",
        "print(foo[2:]+foo[-4:-2])\n",
        "print(foo[::-1]) # read the list in a reversed order"
      ],
      "execution_count": 15,
      "outputs": [
        {
          "output_type": "stream",
          "text": [
            "[1, 4, 3, 9]\n",
            "[3, 9] [1, 4]\n",
            "[3, 9, 1, 4]\n",
            "[9, 3, 4, 1]\n"
          ],
          "name": "stdout"
        }
      ]
    },
    {
      "cell_type": "markdown",
      "metadata": {
        "id": "P8uGKJyhPXov"
      },
      "source": [
        "Lists also support methods like strings"
      ]
    },
    {
      "cell_type": "code",
      "metadata": {
        "id": "o3tQ3fjw7CS2",
        "outputId": "ca40ef25-abb8-40d7-9559-5290a6a37a47",
        "colab": {
          "base_uri": "https://localhost:8080/",
          "height": 54
        }
      },
      "source": [
        "example = [4,2,5,1]\n",
        "example.append(20) # appends an element to the list\n",
        "print(example)\n",
        "example.sort() # sorts the list \n",
        "print(example)"
      ],
      "execution_count": 16,
      "outputs": [
        {
          "output_type": "stream",
          "text": [
            "[4, 2, 5, 1, 20]\n",
            "[1, 2, 4, 5, 20]\n"
          ],
          "name": "stdout"
        }
      ]
    },
    {
      "cell_type": "code",
      "metadata": {
        "id": "mraONMG2rjR3",
        "outputId": "2ad58e8f-3699-43de-9c53-51d5e8e880b7",
        "colab": {
          "base_uri": "https://localhost:8080/",
          "height": 36
        }
      },
      "source": [
        "#using lists as stacks - search how to use lists as queues\n",
        "foo = [1,2,3]\n",
        "print(foo.pop(),foo)"
      ],
      "execution_count": 17,
      "outputs": [
        {
          "output_type": "stream",
          "text": [
            "3 [1, 2]\n"
          ],
          "name": "stdout"
        }
      ]
    },
    {
      "cell_type": "markdown",
      "metadata": {
        "id": "nfn0DkVePO-p"
      },
      "source": [
        "List-to-list assignment is a shallow copy"
      ]
    },
    {
      "cell_type": "code",
      "metadata": {
        "id": "jOV9Hh1x3oeQ",
        "outputId": "972d6d7c-e4c5-40db-93be-12c46a7ad18e",
        "colab": {
          "base_uri": "https://localhost:8080/",
          "height": 36
        }
      },
      "source": [
        "foo = [1,4,9,16]\n",
        "example = foo #this is a shallow copy!\n",
        "# Changing an element in 'example' changes the same element in 'foo'\n",
        "example[0] = 'Not Python'\n",
        "print(example,foo)"
      ],
      "execution_count": 19,
      "outputs": [
        {
          "output_type": "stream",
          "text": [
            "['Not Python', 4, 9, 16] ['Not Python', 4, 9, 16]\n"
          ],
          "name": "stdout"
        }
      ]
    },
    {
      "cell_type": "markdown",
      "metadata": {
        "id": "HwsHHLfi9viL"
      },
      "source": [
        "Python has plenty of built-in libraries besides the standard library. <br>\n",
        "You import a library using the `import libraryname` statement"
      ]
    },
    {
      "cell_type": "code",
      "metadata": {
        "id": "IujSQiWS44KV"
      },
      "source": [
        "import copy as cp\n",
        "foo = [1,4,9,16]\n",
        "example = cp.deepcopy(foo)\n",
        "example[0] = 'new copy'\n",
        "print(example,foo)\n",
        "# You can also copy using a loop by creating an empty list and appending the contents of the other list to it."
      ],
      "execution_count": null,
      "outputs": []
    },
    {
      "cell_type": "markdown",
      "metadata": {
        "id": "pZVodQeUaOA1"
      },
      "source": [
        "#**Tuples**"
      ]
    },
    {
      "cell_type": "markdown",
      "metadata": {
        "id": "hTqNvllTPdJP"
      },
      "source": [
        "The main difference between tuples and lists is that tuples are **immutable**. <br> Besides immutability, why use tuples over lists? \n",
        "<br> \n",
        "\n",
        "*   Tuples are **faster** than lists as lists are created using 2 blocks of memory; a fixed one with all the object information and a variable sized block of memory for possible future allocations. On the other hand, tuples are created using a single fixed block of memory which makes creating a tuple faster than creating a list.\n",
        "*   Indexing is faster in tuples as it follows fewer pointers due to the reason mentioned in the previous bullet point.\n",
        "*   Tuples also make your code safer (write-protected).\n",
        "\n",
        "If you are going to define a constant set of elements, use tuples instead of lists."
      ]
    },
    {
      "cell_type": "code",
      "metadata": {
        "id": "aPeKWfBTaRxv",
        "outputId": "02374d2c-a83d-4e41-a9a0-03390973a5e0",
        "colab": {
          "base_uri": "https://localhost:8080/",
          "height": 73
        }
      },
      "source": [
        "foo = (1,2,3)\n",
        "bar = (4,5,'six')\n",
        "print(foo)\n",
        "print(bar)\n",
        "print(foo+bar)"
      ],
      "execution_count": null,
      "outputs": [
        {
          "output_type": "stream",
          "text": [
            "(1, 2, 3)\n",
            "(4, 5, 'six')\n",
            "(1, 2, 3, 4, 5, 'six')\n"
          ],
          "name": "stdout"
        }
      ]
    },
    {
      "cell_type": "code",
      "metadata": {
        "id": "yHh8Mx8Td2O0"
      },
      "source": [
        "foo[1] = 5 # You can't do that"
      ],
      "execution_count": null,
      "outputs": []
    },
    {
      "cell_type": "code",
      "metadata": {
        "id": "OLcOtclmaeD0",
        "outputId": "ce4b07ff-9155-449e-9a08-9b071a6c3114",
        "colab": {
          "base_uri": "https://localhost:8080/",
          "height": 73
        }
      },
      "source": [
        "example = foo\n",
        "example += ('four','five') # + is the concatenation operator\n",
        "print(example is foo)\n",
        "print(foo)\n",
        "print(example)"
      ],
      "execution_count": null,
      "outputs": [
        {
          "output_type": "stream",
          "text": [
            "False\n",
            "(1, 2, 3)\n",
            "(1, 2, 3, 'four', 'five')\n"
          ],
          "name": "stdout"
        }
      ]
    },
    {
      "cell_type": "markdown",
      "metadata": {
        "id": "HAf_i1L2vRcW"
      },
      "source": [
        "#**Dictionaries**\n",
        "It is best to think of dictionaries as key-value pairs"
      ]
    },
    {
      "cell_type": "code",
      "metadata": {
        "id": "ptUwRVqlvUcY",
        "outputId": "5b5c1588-6674-4cd8-abf1-bcb5594d2e1e",
        "colab": {
          "base_uri": "https://localhost:8080/",
          "height": 92
        }
      },
      "source": [
        "bar = {'Ahmed': 1074,'Aya':1075}\n",
        "print(bar['Aya'])\n",
        "bar = dict([('Ahmed',23),('Omar',22)])\n",
        "print(bar)\n",
        "#Another way of creating a dictionary is using a list of tuples where each tuple represents a key-value pair\n",
        "key_value_pairs = [('Ahmed',23),('Omar',22),('Aya',7)]\n",
        "foo = dict(key_value_pairs)\n",
        "print(foo)\n",
        "#nested dictionary\n",
        "foo = {'2015':{'Ahmed':3,'Aya':4},'2017':{'Omar':2,'Mahmoud':4}}\n",
        "print(foo['2015'])"
      ],
      "execution_count": 23,
      "outputs": [
        {
          "output_type": "stream",
          "text": [
            "1075\n",
            "{'Ahmed': 23, 'Omar': 22}\n",
            "{'Ahmed': 23, 'Omar': 22, 'Aya': 7}\n",
            "{'Ahmed': 3, 'Aya': 4}\n"
          ],
          "name": "stdout"
        }
      ]
    },
    {
      "cell_type": "markdown",
      "metadata": {
        "id": "ojgzvbo8eD9T"
      },
      "source": [
        "#**Flow Control**"
      ]
    },
    {
      "cell_type": "markdown",
      "metadata": {
        "id": "YaMXp2e4P3LD"
      },
      "source": [
        "Structure of the **if** statement "
      ]
    },
    {
      "cell_type": "markdown",
      "metadata": {
        "id": "upIOlc05gIkE"
      },
      "source": [
        "**Indentation** in Python is very important. Python uses indentation to indicate a block of code."
      ]
    },
    {
      "cell_type": "code",
      "metadata": {
        "id": "uzI2VhhbeHGy",
        "outputId": "39282242-699a-410f-8814-843ee13fdfc2",
        "colab": {
          "base_uri": "https://localhost:8080/",
          "height": 36
        }
      },
      "source": [
        "x = 5 \n",
        "if x<0:\n",
        "  x = 0\n",
        "  print('Negative changed to zero')\n",
        "elif x == 0:\n",
        "  print('zero')\n",
        "elif x == 1:\n",
        "  print('one')\n",
        "else:\n",
        "  print('More than one')"
      ],
      "execution_count": 24,
      "outputs": [
        {
          "output_type": "stream",
          "text": [
            "More than one\n"
          ],
          "name": "stdout"
        }
      ]
    },
    {
      "cell_type": "markdown",
      "metadata": {
        "id": "uJqiBUMsQAy1"
      },
      "source": [
        "For Loops <br>\n",
        "Write a code to print the first 10 digits of the fibonacci sequence"
      ]
    },
    {
      "cell_type": "code",
      "metadata": {
        "id": "vovHK5Xuj5k9",
        "outputId": "74c90a16-b487-4657-a641-e6b7a5e69912",
        "colab": {
          "base_uri": "https://localhost:8080/",
          "height": 204
        }
      },
      "source": [
        "a = 0\n",
        "b = 1\n",
        "for i in range(10):\n",
        "  print(a)\n",
        "  temp = b\n",
        "  b = b + a\n",
        "  a = temp"
      ],
      "execution_count": 25,
      "outputs": [
        {
          "output_type": "stream",
          "text": [
            "0\n",
            "1\n",
            "1\n",
            "2\n",
            "3\n",
            "5\n",
            "8\n",
            "13\n",
            "21\n",
            "34\n"
          ],
          "name": "stdout"
        }
      ]
    },
    {
      "cell_type": "markdown",
      "metadata": {
        "id": "cBg-XGPPQNSs"
      },
      "source": [
        "While loops"
      ]
    },
    {
      "cell_type": "code",
      "metadata": {
        "id": "P7W8zZV_lMDD",
        "outputId": "002ace0e-3094-422c-d02d-07c240293994",
        "colab": {
          "base_uri": "https://localhost:8080/",
          "height": 185
        }
      },
      "source": [
        "i = 1\n",
        "a = 0\n",
        "b = 1\n",
        "while i<10:\n",
        "  i+=1\n",
        "  a,b = b,a+b # multiple assignment\n",
        "  print(a)"
      ],
      "execution_count": 26,
      "outputs": [
        {
          "output_type": "stream",
          "text": [
            "1\n",
            "1\n",
            "2\n",
            "3\n",
            "5\n",
            "8\n",
            "13\n",
            "21\n",
            "34\n"
          ],
          "name": "stdout"
        }
      ]
    },
    {
      "cell_type": "markdown",
      "metadata": {
        "id": "M7Tbzq8FQGhu"
      },
      "source": [
        "For loops are particularly powerful in Python as they can loop on any iterable "
      ]
    },
    {
      "cell_type": "code",
      "metadata": {
        "id": "_1dGCUjfmfuN",
        "outputId": "46c64b2b-9ade-4969-8c9d-5ec1529b9e60",
        "colab": {
          "base_uri": "https://localhost:8080/",
          "height": 73
        }
      },
      "source": [
        "foo = ['Intro','to','Python']\n",
        "for word in foo:\n",
        "  print(word)"
      ],
      "execution_count": 27,
      "outputs": [
        {
          "output_type": "stream",
          "text": [
            "Intro\n",
            "to\n",
            "Python\n"
          ],
          "name": "stdout"
        }
      ]
    },
    {
      "cell_type": "code",
      "metadata": {
        "id": "L9YybQhJm_VE",
        "outputId": "c05352d7-232e-4a30-e1c2-f1b0e8512f08",
        "colab": {
          "base_uri": "https://localhost:8080/",
          "height": 73
        }
      },
      "source": [
        "for i in range(len(foo)):\n",
        "  word = foo[i]\n",
        "  print(word)"
      ],
      "execution_count": 28,
      "outputs": [
        {
          "output_type": "stream",
          "text": [
            "Intro\n",
            "to\n",
            "Python\n"
          ],
          "name": "stdout"
        }
      ]
    },
    {
      "cell_type": "code",
      "metadata": {
        "id": "pJiev1bGWjLV",
        "outputId": "ca5a7779-5ef3-4b14-87b1-80b35b16bcb1",
        "colab": {
          "base_uri": "https://localhost:8080/",
          "height": 185
        }
      },
      "source": [
        "bar = [[4,5,6],[7,7,9],[1,2,3]]\n",
        "for sublist in bar:\n",
        "  for element in sublist:\n",
        "    print(element)"
      ],
      "execution_count": 29,
      "outputs": [
        {
          "output_type": "stream",
          "text": [
            "4\n",
            "5\n",
            "6\n",
            "7\n",
            "7\n",
            "9\n",
            "1\n",
            "2\n",
            "3\n"
          ],
          "name": "stdout"
        }
      ]
    },
    {
      "cell_type": "markdown",
      "metadata": {
        "id": "jvkSXBn_QKTk"
      },
      "source": [
        "Looping over a dictionary"
      ]
    },
    {
      "cell_type": "code",
      "metadata": {
        "id": "Ir1uPKMByLmB",
        "outputId": "fdc337ae-3a59-48ca-f752-f20db5c1b559",
        "colab": {
          "base_uri": "https://localhost:8080/",
          "height": 54
        }
      },
      "source": [
        "bar = {'Ahmed': 1074,'Aya':1075}\n",
        "for k,v in bar.items():\n",
        "  print(k,v)"
      ],
      "execution_count": 30,
      "outputs": [
        {
          "output_type": "stream",
          "text": [
            "Ahmed 1074\n",
            "Aya 1075\n"
          ],
          "name": "stdout"
        }
      ]
    },
    {
      "cell_type": "markdown",
      "metadata": {
        "id": "CbShOkUpoDTw"
      },
      "source": [
        "**Break and continue statements are similar to ones in C**"
      ]
    },
    {
      "cell_type": "markdown",
      "metadata": {
        "id": "x-F38AJSopiS"
      },
      "source": [
        "#**Functions**"
      ]
    },
    {
      "cell_type": "code",
      "metadata": {
        "id": "XOnF01LFotdJ"
      },
      "source": [
        "#implement a function that computes the nth fibonacci number\n",
        "def fib(n=10):\n",
        "  a = 0\n",
        "  b = 1\n",
        "  for i in range(n):\n",
        "    a,b = b,a+b\n",
        "  return a\n",
        "print(fib(),'-',fib(5))"
      ],
      "execution_count": null,
      "outputs": []
    }
  ]
}