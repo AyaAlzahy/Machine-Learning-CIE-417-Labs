{
  "nbformat": 4,
  "nbformat_minor": 0,
  "metadata": {
    "colab": {
      "name": "Lab 1. Introduction to Python - Second Part.ipynb",
      "provenance": []
    },
    "kernelspec": {
      "name": "python3",
      "display_name": "Python 3"
    }
  },
  "cells": [
    {
      "cell_type": "markdown",
      "metadata": {
        "id": "HHHKaBUGznkB"
      },
      "source": [
        "#**Numpy**\n",
        "Numpy is a powerful library for scientific computation in Python. Its main object is a multi-dimensional array of **numbers** and it provides fast routines for mathematical operations, sorting, selection, shape manipulation, linear algebra and statistical simulation."
      ]
    },
    {
      "cell_type": "markdown",
      "metadata": {
        "id": "BtjPOSbY4UdR"
      },
      "source": [
        "Let us try to write a code which multiplies the corresponding elements in 2 lists in native python"
      ]
    },
    {
      "cell_type": "code",
      "metadata": {
        "id": "Q_D79hF149_s",
        "outputId": "edd9435a-ed85-4713-8610-e33b51f56c0b",
        "colab": {
          "base_uri": "https://localhost:8080/",
          "height": 36
        }
      },
      "source": [
        "# multiply the corresponding elements in 2 lists\n",
        "bar = [1,2,3]\n",
        "foo = [4,5,6]\n",
        "barfoo = []\n",
        "for i in range(len(bar)):\n",
        "  barfoo.append(bar[i]*foo[i])\n",
        "print(barfoo)"
      ],
      "execution_count": 36,
      "outputs": [
        {
          "output_type": "stream",
          "text": [
            "[4, 10, 18]\n"
          ],
          "name": "stdout"
        }
      ]
    },
    {
      "cell_type": "markdown",
      "metadata": {
        "id": "VNjeBFX64fQs"
      },
      "source": [
        "The above example is very inefficient as the multiplications are done sequentially. Numpy does the multiplications in parallel at near C speeds."
      ]
    },
    {
      "cell_type": "code",
      "metadata": {
        "id": "iosxrsSO5nbi",
        "outputId": "7aa4ed2e-03d8-46d0-f2c9-99b8df57d36c",
        "colab": {
          "base_uri": "https://localhost:8080/",
          "height": 36
        }
      },
      "source": [
        "import numpy as np\n",
        "bar = np.array([1,2,3])\n",
        "foo = np.array([4,5,6])\n",
        "barfoo = bar*foo\n",
        "print(barfoo)"
      ],
      "execution_count": 37,
      "outputs": [
        {
          "output_type": "stream",
          "text": [
            "[ 4 10 18]\n"
          ],
          "name": "stdout"
        }
      ]
    },
    {
      "cell_type": "markdown",
      "metadata": {
        "id": "Im7jhFtW55YZ"
      },
      "source": [
        "Let us try to time both codes for 2 large arrays using Python built-in time library"
      ]
    },
    {
      "cell_type": "code",
      "metadata": {
        "id": "w4mvXFJ75_o6",
        "outputId": "ed09fd63-2884-4f25-a359-079db9d72ec3",
        "colab": {
          "base_uri": "https://localhost:8080/",
          "height": 54
        }
      },
      "source": [
        "from time import time\n",
        "import numpy as np\n",
        "bar = list(range(1,100000))\n",
        "foo = list(range(1,100000))\n",
        "barfoo = []\n",
        "start = time()\n",
        "for i in range(len(bar)):\n",
        "  barfoo.append(bar[i]*foo[i])\n",
        "end = time()\n",
        "print('Elapsed time in case of Looping:',1000*(end-start),'ms')\n",
        "bar = np.array(bar)\n",
        "foo = np.array(foo)\n",
        "start = time()  \n",
        "barfoo = bar*foo\n",
        "end = time()\n",
        "print('Elapsed time using NumPy:',1000*(end-start),'ms')"
      ],
      "execution_count": 38,
      "outputs": [
        {
          "output_type": "stream",
          "text": [
            "Elapsed time in case of Looping: 24.222373962402344 ms\n",
            "Elapsed time using NumPy: 1.855611801147461 ms\n"
          ],
          "name": "stdout"
        }
      ]
    },
    {
      "cell_type": "markdown",
      "metadata": {
        "id": "wMb5jsZU-CKf"
      },
      "source": [
        "Array Creation"
      ]
    },
    {
      "cell_type": "code",
      "metadata": {
        "id": "aCylwALk-BuH"
      },
      "source": [
        "import numpy as np\n",
        "a = np.array([4,1,3]) \n",
        "#print(a,type(a))\n",
        "a = np.array([[1,2,3],[4,5,6]],dtype='float')\n",
        "#print(a,type(a))\n",
        "a = np.linspace(0,100,10)\n",
        "#print(a)\n",
        "a = np.arange(0,100,10)\n",
        "# print(a)\n",
        "a = np.zeros((3,5),dtype='int')\n",
        "#print(a)\n",
        "a = np.ones((2,4),dtype='float')\n",
        "#print(a)\n",
        "a = np.empty((3,4,3))\n",
        "#print(a)\n",
        "a = np.eye(3)\n",
        "print(a)"
      ],
      "execution_count": null,
      "outputs": []
    },
    {
      "cell_type": "markdown",
      "metadata": {
        "id": "qON_5o-o8Dvz"
      },
      "source": [
        "Numpy arrays have 6 attributes:\n",
        "\n",
        "\n",
        "*   **shape** is the dimensions of the array.\n",
        "*   **ndim** is the number of dimensions of the array.\n",
        "*   **size** is the number of elements in the array.\n",
        "*   **dtype** is the type of elements in the array\n",
        "*   **itemsize** is the size of an element in the array in bytes\n",
        "*   **data** is a buffer which contains the elements of the array. But, this attribute is rarely used as we access array elements using indexing\n",
        "\n"
      ]
    },
    {
      "cell_type": "code",
      "metadata": {
        "id": "ouusZi8y8Y9_",
        "outputId": "50f89fd3-4a0d-460c-870a-91f37b55f4b9",
        "colab": {
          "base_uri": "https://localhost:8080/",
          "height": 148
        }
      },
      "source": [
        "a = np.arange(2,12,1)\n",
        "print(a)\n",
        "print(a.shape)\n",
        "print(a.ndim)\n",
        "print(a.size)\n",
        "print(a.itemsize)\n",
        "print(a.dtype)\n",
        "print(a.data[1])"
      ],
      "execution_count": 55,
      "outputs": [
        {
          "output_type": "stream",
          "text": [
            "[ 2  3  4  5  6  7  8  9 10 11]\n",
            "(10,)\n",
            "1\n",
            "10\n",
            "8\n",
            "int64\n",
            "3\n"
          ],
          "name": "stdout"
        }
      ]
    },
    {
      "cell_type": "markdown",
      "metadata": {
        "id": "7vEWgtpvo7Hx"
      },
      "source": [
        "Indexing Numpy Arrays is so similar to MATLAB"
      ]
    },
    {
      "cell_type": "code",
      "metadata": {
        "id": "dlm4T6FAo97Q"
      },
      "source": [
        "a = np.array([[4,3,1],[2,1,2],[4,7,3]])\n",
        "print(a)\n",
        "#print(a[0,1])\n",
        "#print(a[1,:])\n",
        "#print(a[:,0])\n",
        "ix = np.array([1,1,0],dtype='bool')\n",
        "print(a[:,ix]) # supports logical indexing (it comes in handy in plenty of situations)"
      ],
      "execution_count": null,
      "outputs": []
    },
    {
      "cell_type": "markdown",
      "metadata": {
        "id": "R-5ueeVh7F-Q"
      },
      "source": [
        "Arithmetic operators on arrays apply element-wise"
      ]
    },
    {
      "cell_type": "code",
      "metadata": {
        "id": "QYX-5Lps6MWS",
        "outputId": "7bbbfc47-d811-4b80-85c5-3df44b943b65",
        "colab": {
          "base_uri": "https://localhost:8080/",
          "height": 111
        }
      },
      "source": [
        "a = np.array([1,2,3])\n",
        "b = np.array([2,4,6])\n",
        "print(a-b)\n",
        "print(a+b)\n",
        "print(a*b)\n",
        "print(a**b)\n",
        "print(a/b)"
      ],
      "execution_count": 62,
      "outputs": [
        {
          "output_type": "stream",
          "text": [
            "[-1 -2 -3]\n",
            "[3 6 9]\n",
            "[ 2  8 18]\n",
            "[  1  16 729]\n",
            "[0.5 0.5 0.5]\n"
          ],
          "name": "stdout"
        }
      ]
    },
    {
      "cell_type": "markdown",
      "metadata": {
        "id": "h-RfmYsrE2ns"
      },
      "source": [
        "Arrays support many unary operations"
      ]
    },
    {
      "cell_type": "code",
      "metadata": {
        "id": "bQ55Tbs-E1_g",
        "outputId": "b66bade7-ff00-448c-cfca-e6b443388036",
        "colab": {
          "base_uri": "https://localhost:8080/",
          "height": 129
        }
      },
      "source": [
        "a = np.arange(0,11,2).reshape((2,-1))\n",
        "print(a)\n",
        "print('Sum of array elements: ',a.sum())\n",
        "print('Array maximum: ',a.max())\n",
        "print('Array minimum: ',a.min())\n",
        "print('Array mean: ',a.mean())"
      ],
      "execution_count": 64,
      "outputs": [
        {
          "output_type": "stream",
          "text": [
            "[[ 0  2  4]\n",
            " [ 6  8 10]]\n",
            "Sum of array elements:  30\n",
            "Array maximum:  10\n",
            "Array minimum:  0\n",
            "Array mean:  5.0\n"
          ],
          "name": "stdout"
        }
      ]
    },
    {
      "cell_type": "markdown",
      "metadata": {
        "id": "kCmn6iw_GIUb"
      },
      "source": [
        "Numpy supports universal functions that are applied element-wise to array elements"
      ]
    },
    {
      "cell_type": "code",
      "metadata": {
        "id": "evk2gabrGHor",
        "outputId": "a6cb8558-f7bc-4654-cb41-005b6e29d9e1",
        "colab": {
          "base_uri": "https://localhost:8080/",
          "height": 167
        }
      },
      "source": [
        "a = np.arange(0,11,1)\n",
        "print(np.exp(a))\n",
        "print(np.sin(a))\n",
        "print(np.cos(a))\n",
        "print(np.sin(a)**2+np.cos(a)**2)"
      ],
      "execution_count": 65,
      "outputs": [
        {
          "output_type": "stream",
          "text": [
            "[1.00000000e+00 2.71828183e+00 7.38905610e+00 2.00855369e+01\n",
            " 5.45981500e+01 1.48413159e+02 4.03428793e+02 1.09663316e+03\n",
            " 2.98095799e+03 8.10308393e+03 2.20264658e+04]\n",
            "[ 0.          0.84147098  0.90929743  0.14112001 -0.7568025  -0.95892427\n",
            " -0.2794155   0.6569866   0.98935825  0.41211849 -0.54402111]\n",
            "[ 1.          0.54030231 -0.41614684 -0.9899925  -0.65364362  0.28366219\n",
            "  0.96017029  0.75390225 -0.14550003 -0.91113026 -0.83907153]\n",
            "[1. 1. 1. 1. 1. 1. 1. 1. 1. 1. 1.]\n"
          ],
          "name": "stdout"
        }
      ]
    },
    {
      "cell_type": "markdown",
      "metadata": {
        "id": "fipWv9oqJWv5"
      },
      "source": [
        "Shape Manipulation\n",
        "\n",
        "*   **Reshape** function returns its argument with a modified shape\n",
        "*   **Resize** function modifies the array itself\n",
        "\n"
      ]
    },
    {
      "cell_type": "code",
      "metadata": {
        "id": "RRU1LKlaJZPD",
        "outputId": "7a5e3032-7e69-4da2-ba49-591394c9d9f9",
        "colab": {
          "base_uri": "https://localhost:8080/",
          "height": 148
        }
      },
      "source": [
        "a = np.arange(5,20,1)\n",
        "#print(a.reshape(3,5))\n",
        "#print(a) # The array 'a' hasn't changed after calling reshape\n",
        "print(a.resize(3,5))\n",
        "#print(a) # The array 'a' changed after calling resize\n",
        "#print(a.reshape(5,-1)) # using -1 in the shape tuple automatically calculates the other dimension\n",
        "print(a.T) #transpose the array a\n",
        "print(a.ravel())"
      ],
      "execution_count": 71,
      "outputs": [
        {
          "output_type": "stream",
          "text": [
            "None\n",
            "[[ 5 10 15]\n",
            " [ 6 11 16]\n",
            " [ 7 12 17]\n",
            " [ 8 13 18]\n",
            " [ 9 14 19]]\n",
            "[ 5  6  7  8  9 10 11 12 13 14 15 16 17 18 19]\n"
          ],
          "name": "stdout"
        }
      ]
    },
    {
      "cell_type": "markdown",
      "metadata": {
        "id": "Nno89r4jef0t"
      },
      "source": [
        "Splitting and Stacking arrays\n"
      ]
    },
    {
      "cell_type": "code",
      "metadata": {
        "id": "Ogn4acv4k_na",
        "outputId": "a1318fb4-0ace-47f9-a837-a8ccdb842dd0",
        "colab": {
          "base_uri": "https://localhost:8080/",
          "height": 111
        }
      },
      "source": [
        "a = np.ones((2,5))\n",
        "b = np.zeros((2,3))\n",
        "c = np.hstack((a,b)) # horizontally stacks the two arrays\n",
        "#print(c,c.shape)\n",
        "d = np.vstack((c,-np.ones((3,8)))) # vertically stacks the two arrays\n",
        "print(d,d.shape)"
      ],
      "execution_count": 74,
      "outputs": [
        {
          "output_type": "stream",
          "text": [
            "[[ 1.  1.  1.  1.  1.  0.  0.  0.]\n",
            " [ 1.  1.  1.  1.  1.  0.  0.  0.]\n",
            " [-1. -1. -1. -1. -1. -1. -1. -1.]\n",
            " [-1. -1. -1. -1. -1. -1. -1. -1.]\n",
            " [-1. -1. -1. -1. -1. -1. -1. -1.]] (5, 8)\n"
          ],
          "name": "stdout"
        }
      ]
    },
    {
      "cell_type": "code",
      "metadata": {
        "id": "v3_SthTemApQ",
        "outputId": "598ff0ce-1d2f-4f89-c7f6-8981ba2163b2",
        "colab": {
          "base_uri": "https://localhost:8080/",
          "height": 92
        }
      },
      "source": [
        "c,x = np.vsplit(d,(2,)) # split after the 2nd row\n",
        "#print(c,x)\n",
        "a,b = np.hsplit(c,(5,)) # split after the 5th column\n",
        "print(a)\n",
        "print(b)"
      ],
      "execution_count": 77,
      "outputs": [
        {
          "output_type": "stream",
          "text": [
            "[[1. 1. 1. 1. 1.]\n",
            " [1. 1. 1. 1. 1.]]\n",
            "[[0. 0. 0.]\n",
            " [0. 0. 0.]]\n"
          ],
          "name": "stdout"
        }
      ]
    },
    {
      "cell_type": "markdown",
      "metadata": {
        "id": "7-lckitoqQnb"
      },
      "source": [
        "Copying numpy arrays"
      ]
    },
    {
      "cell_type": "code",
      "metadata": {
        "id": "KwLojoIXqTXv",
        "outputId": "076c934a-e5ef-4da1-f8e5-fd941425ffbb",
        "colab": {
          "base_uri": "https://localhost:8080/",
          "height": 36
        }
      },
      "source": [
        "a = np.ones((2,3))\n",
        "b = a # shallow copy\n",
        "#print(b is a)\n",
        "b = a.copy() # deep copy\n",
        "print(b is a)"
      ],
      "execution_count": 79,
      "outputs": [
        {
          "output_type": "stream",
          "text": [
            "False\n"
          ],
          "name": "stdout"
        }
      ]
    },
    {
      "cell_type": "code",
      "metadata": {
        "id": "Kzk-W1QZg-bi",
        "outputId": "0df8848e-8644-47fd-d695-442e05d419d4",
        "colab": {
          "base_uri": "https://localhost:8080/",
          "height": 73
        }
      },
      "source": [
        "a = np.ones((2,3))\n",
        "b = a.copy() # shallow copy\n",
        "b[0,0] = 0\n",
        "print(a,b)"
      ],
      "execution_count": 83,
      "outputs": [
        {
          "output_type": "stream",
          "text": [
            "[[1. 1. 1.]\n",
            " [1. 1. 1.]] [[0. 1. 1.]\n",
            " [1. 1. 1.]]\n"
          ],
          "name": "stdout"
        }
      ]
    },
    {
      "cell_type": "markdown",
      "metadata": {
        "id": "6RuJmO0s0I0X"
      },
      "source": [
        "#**Classes**\n",
        "As we have discussed, *everything* is an object in Python. Objects are, as you may know, instantiations of *classes* and, as you may have already guessed, you can indeed define your own classes.\n",
        "###This section was prepared by Eng. Muhammad Al Aref"
      ]
    },
    {
      "cell_type": "code",
      "metadata": {
        "id": "CllAR-S7u7Ko"
      },
      "source": [
        "class MyClass:\n",
        "      \n",
        "    class_variable = [1, 2, 3]\n",
        "    \n",
        "    def __init__(self):\n",
        "        print('I am the constructor!')\n",
        "        self.variable = 'I am an object variable'\n",
        "        self._variable = 'I am a private object variable'\n",
        "    \n",
        "    def my_method(self):\n",
        "        print('I am a method!')\n",
        "    \n",
        "    def my_returning_method(self, something):\n",
        "        return something\n",
        "    \n",
        "    def my_variable_returning_method(self):\n",
        "        return self._variable\n",
        "    \n",
        "    def _my_private_method(self):\n",
        "        print('I am a private method and I \"should\" not be called from outside the class')\n",
        "        \n",
        "    @classmethod\n",
        "    def my_class_method(cls):\n",
        "        print('I am a class method and I implicitly get my class as my first argument:', cls)\n",
        "        \n",
        "    @staticmethod\n",
        "    def my_static_method():\n",
        "        print('I am a class method and I behave just like any normal method, just call me from my class!')"
      ],
      "execution_count": 84,
      "outputs": []
    },
    {
      "cell_type": "code",
      "metadata": {
        "id": "vPxVUXpR9kqI",
        "outputId": "8be8a0d3-baf9-4756-cc73-428840e78cde",
        "colab": {
          "base_uri": "https://localhost:8080/",
          "height": 241
        }
      },
      "source": [
        "print(MyClass)\n",
        "my_class_instance = MyClass()\n",
        "print(my_class_instance)\n",
        "my_class_instance.my_method()\n",
        "print(my_class_instance.my_returning_method('I am the something!'))\n",
        "print(my_class_instance.my_variable_returning_method())\n",
        "print(my_class_instance.variable)\n",
        "my_class_instance._my_private_method()  # while you can, you \"shouldn't\" do that\n",
        "print(my_class_instance._variable)   # again, you can but you shouldn't\n",
        "print(MyClass.class_variable)\n",
        "MyClass.my_class_method()             # you can it from my_class_instance as well, but... you shouldn't\n",
        "MyClass.my_static_method()            # again, you can it from my_class_instance as well, but?"
      ],
      "execution_count": 94,
      "outputs": [
        {
          "output_type": "stream",
          "text": [
            "<class '__main__.MyClass'>\n",
            "I am the constructor!\n",
            "<__main__.MyClass object at 0x7fb1b6d51cf8>\n",
            "I am a method!\n",
            "I am the something!\n",
            "I am a private object variable\n",
            "I am an object variable\n",
            "I am a private method and I \"should\" not be called from outside the class\n",
            "I am a private object variable\n",
            "[1, 2, 3]\n",
            "I am a class method and I implicitly get my class as my first argument: <class '__main__.MyClass'>\n",
            "I am a class method and I behave just like any normal method, just call me from my class!\n"
          ],
          "name": "stdout"
        }
      ]
    },
    {
      "cell_type": "markdown",
      "metadata": {
        "id": "5BA6AXrFAXwf"
      },
      "source": [
        "##Inheritance\n",
        "\n",
        "A class can inherit from another class. In effect, that gives the *child* class all the functionality of the *parent* class. *Child* classes can *override* some of these functionalities if needed."
      ]
    },
    {
      "cell_type": "code",
      "metadata": {
        "id": "3Px3cn54dBTx"
      },
      "source": [
        "class MyOtherClass(MyClass):\n",
        "    \n",
        "    def my_method(self):\n",
        "            print(\"I am overriding my parent's method\")\n",
        "        \n",
        "    def my_brand_new_method(self):\n",
        "        print(\"I am not inherited\")"
      ],
      "execution_count": 95,
      "outputs": []
    },
    {
      "cell_type": "code",
      "metadata": {
        "id": "cOe_BW5QdBVt",
        "outputId": "0c9fdba1-3587-49e5-dfd7-130a7aa6ff56",
        "colab": {
          "base_uri": "https://localhost:8080/",
          "height": 204
        }
      },
      "source": [
        "print(MyOtherClass)\n",
        "my_other_instance = MyOtherClass()\n",
        "print(my_other_instance)\n",
        "my_other_instance.my_method()\n",
        "my_other_instance.my_brand_new_method()\n",
        "print(my_other_instance.my_returning_method('I am the something!'))\n",
        "print(my_other_instance.my_variable_returning_method())\n",
        "print(my_other_instance.variable)\n",
        "MyOtherClass.my_class_method()\n",
        "MyOtherClass.my_static_method()"
      ],
      "execution_count": 97,
      "outputs": [
        {
          "output_type": "stream",
          "text": [
            "<class '__main__.MyOtherClass'>\n",
            "I am the constructor!\n",
            "<__main__.MyOtherClass object at 0x7fb1b63c20b8>\n",
            "I am overriding my parent's method\n",
            "I am not inherited\n",
            "I am the something!\n",
            "I am a private object variable\n",
            "I am an object variable\n",
            "I am a class method and I implicitly get my class as my first argument: <class '__main__.MyOtherClass'>\n",
            "I am a class method and I behave just like any normal method, just call me from my class!\n"
          ],
          "name": "stdout"
        }
      ]
    },
    {
      "cell_type": "code",
      "metadata": {
        "id": "E-Hz6ar7VNn7"
      },
      "source": [
        ""
      ],
      "execution_count": null,
      "outputs": []
    }
  ]
}